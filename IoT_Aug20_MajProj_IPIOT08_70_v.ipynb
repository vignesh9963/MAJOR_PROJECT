{
  "nbformat": 4,
  "nbformat_minor": 0,
  "metadata": {
    "colab": {
      "name": "IoT_Aug20_MajProj_IPIOT08_70 v",
      "provenance": [],
      "collapsed_sections": [],
      "authorship_tag": "ABX9TyOB/dw1qN6w9Tjp+neo9P/3",
      "include_colab_link": true
    },
    "kernelspec": {
      "name": "python3",
      "display_name": "Python 3"
    }
  },
  "cells": [
    {
      "cell_type": "markdown",
      "metadata": {
        "id": "view-in-github",
        "colab_type": "text"
      },
      "source": [
        "<a href=\"https://colab.research.google.com/github/vignesh9963/MAJOR_PROJECT/blob/master/IoT_Aug20_MajProj_IPIOT08_70_v.ipynb\" target=\"_parent\"><img src=\"https://colab.research.google.com/assets/colab-badge.svg\" alt=\"Open In Colab\"/></a>"
      ]
    },
    {
      "cell_type": "code",
      "metadata": {
        "id": "Uyg-chqc6Bg1",
        "colab_type": "code",
        "colab": {
          "base_uri": "https://localhost:8080/",
          "height": 148
        },
        "outputId": "dcd665ec-d8b9-4b06-98e8-2e5bb91d9bd1"
      },
      "source": [
        "!pip install adafruit-io"
      ],
      "execution_count": 63,
      "outputs": [
        {
          "output_type": "stream",
          "text": [
            "Requirement already satisfied: adafruit-io in /usr/local/lib/python3.6/dist-packages (2.4.0)\n",
            "Requirement already satisfied: paho-mqtt in /usr/local/lib/python3.6/dist-packages (from adafruit-io) (1.5.0)\n",
            "Requirement already satisfied: requests in /usr/local/lib/python3.6/dist-packages (from adafruit-io) (2.23.0)\n",
            "Requirement already satisfied: idna<3,>=2.5 in /usr/local/lib/python3.6/dist-packages (from requests->adafruit-io) (2.10)\n",
            "Requirement already satisfied: certifi>=2017.4.17 in /usr/local/lib/python3.6/dist-packages (from requests->adafruit-io) (2020.6.20)\n",
            "Requirement already satisfied: chardet<4,>=3.0.2 in /usr/local/lib/python3.6/dist-packages (from requests->adafruit-io) (3.0.4)\n",
            "Requirement already satisfied: urllib3!=1.25.0,!=1.25.1,<1.26,>=1.21.1 in /usr/local/lib/python3.6/dist-packages (from requests->adafruit-io) (1.24.3)\n"
          ],
          "name": "stdout"
        }
      ]
    },
    {
      "cell_type": "code",
      "metadata": {
        "id": "SpZao7LFp5Of",
        "colab_type": "code",
        "colab": {}
      },
      "source": [
        "x = \"vignesh9999\" #username\n",
        "y = \"aio_RPBL95J99ee8xu0klYqbracFWecr\" #key"
      ],
      "execution_count": 64,
      "outputs": []
    },
    {
      "cell_type": "code",
      "metadata": {
        "id": "-dH-MxtYsq7S",
        "colab_type": "code",
        "colab": {}
      },
      "source": [
        "from Adafruit_IO import Client, Feed\n",
        "aio = Client(x,y)"
      ],
      "execution_count": 65,
      "outputs": []
    },
    {
      "cell_type": "code",
      "metadata": {
        "id": "vlGuPAod6oa8",
        "colab_type": "code",
        "colab": {}
      },
      "source": [
        "#feed creation\n",
        "new11=Feed(name='social')"
      ],
      "execution_count": 66,
      "outputs": []
    },
    {
      "cell_type": "code",
      "metadata": {
        "id": "6Vwzzlc47yaY",
        "colab_type": "code",
        "colab": {}
      },
      "source": [
        "result = aio.create_feed(new11)"
      ],
      "execution_count": 67,
      "outputs": []
    },
    {
      "cell_type": "code",
      "metadata": {
        "id": "EJmntIn993Be",
        "colab_type": "code",
        "colab": {
          "base_uri": "https://localhost:8080/",
          "height": 36
        },
        "outputId": "25d027b6-0917-4501-f679-ab06cea8c5c6"
      },
      "source": [
        "result"
      ],
      "execution_count": 68,
      "outputs": [
        {
          "output_type": "execute_result",
          "data": {
            "text/plain": [
              "Feed(name='social', key='social', description=None, unit_type=None, unit_symbol=None, history=True, visibility='private', license=None, status_notify=False, status_timeout=4320)"
            ]
          },
          "metadata": {
            "tags": []
          },
          "execution_count": 68
        }
      ]
    },
    {
      "cell_type": "code",
      "metadata": {
        "id": "mDS9iUoxBD1c",
        "colab_type": "code",
        "colab": {}
      },
      "source": [
        "#sending a value to field\n",
        "from Adafruit_IO import Data\n",
        "value = Data(value=10)\n",
        "value_send=aio.create_data('social',value)"
      ],
      "execution_count": 70,
      "outputs": []
    },
    {
      "cell_type": "code",
      "metadata": {
        "id": "Kpu-qCqyIPXu",
        "colab_type": "code",
        "colab": {}
      },
      "source": [
        "#Telegram api"
      ],
      "execution_count": null,
      "outputs": []
    },
    {
      "cell_type": "code",
      "metadata": {
        "id": "OsMDCAr_ISjJ",
        "colab_type": "code",
        "colab": {
          "base_uri": "https://localhost:8080/",
          "height": 279
        },
        "outputId": "034f219e-e92a-439a-ddca-dcf57613b40b"
      },
      "source": [
        "!pip install python-telegram-bot"
      ],
      "execution_count": 71,
      "outputs": [
        {
          "output_type": "stream",
          "text": [
            "Collecting python-telegram-bot\n",
            "\u001b[?25l  Downloading https://files.pythonhosted.org/packages/a6/2d/c72fc9a28144277f6170f2fcbfd3bd9427943497522b2689846596eb86cf/python_telegram_bot-12.8-py2.py3-none-any.whl (375kB)\n",
            "\u001b[K     |████████████████████████████████| 378kB 4.3MB/s \n",
            "\u001b[?25hRequirement already satisfied: decorator>=4.4.0 in /usr/local/lib/python3.6/dist-packages (from python-telegram-bot) (4.4.2)\n",
            "Requirement already satisfied: tornado>=5.1 in /usr/local/lib/python3.6/dist-packages (from python-telegram-bot) (5.1.1)\n",
            "Requirement already satisfied: certifi in /usr/local/lib/python3.6/dist-packages (from python-telegram-bot) (2020.6.20)\n",
            "Collecting cryptography\n",
            "\u001b[?25l  Downloading https://files.pythonhosted.org/packages/c0/9c/647e559a6e8be493dc2a7a5d15d26cb501ca60ec299b356f23839a673a83/cryptography-3.1-cp35-abi3-manylinux2010_x86_64.whl (2.6MB)\n",
            "\u001b[K     |████████████████████████████████| 2.6MB 7.5MB/s \n",
            "\u001b[?25hRequirement already satisfied: cffi!=1.11.3,>=1.8 in /usr/local/lib/python3.6/dist-packages (from cryptography->python-telegram-bot) (1.14.2)\n",
            "Requirement already satisfied: six>=1.4.1 in /usr/local/lib/python3.6/dist-packages (from cryptography->python-telegram-bot) (1.15.0)\n",
            "Requirement already satisfied: pycparser in /usr/local/lib/python3.6/dist-packages (from cffi!=1.11.3,>=1.8->cryptography->python-telegram-bot) (2.20)\n",
            "Installing collected packages: cryptography, python-telegram-bot\n",
            "Successfully installed cryptography-3.1 python-telegram-bot-12.8\n"
          ],
          "name": "stdout"
        }
      ]
    },
    {
      "cell_type": "code",
      "metadata": {
        "id": "1cFHXIDWIpK1",
        "colab_type": "code",
        "colab": {
          "base_uri": "https://localhost:8080/",
          "height": 54
        },
        "outputId": "289e12dd-1f0b-449d-d4b8-10215d2eef1d"
      },
      "source": [
        "from telegram.ext import Updater,CommandHandler\n",
        "import requests #Data fetch you from cloud\n",
        "def get_url():\n",
        "    contents = requests.get('https://random.dog/woof.json').json()\n",
        "    url = contents['url']\n",
        "    return url\n",
        "def dog(bot,update):\n",
        "    url = get_url()\n",
        "    chat_id = update.message.chat_id\n",
        "    bot.send_photo(chat_id,photo=url)\n",
        "\n",
        "u = Updater('1394884382:AAEyujfpKt-sSaPqwr4JWDc0g7t8r_IPfjs')    \n",
        "dp = u.dispatcher\n",
        "dp.add_handler(CommandHandler('dog',dog))\n",
        "u.start_polling()\n",
        "u.idle()\n"
      ],
      "execution_count": 1,
      "outputs": [
        {
          "output_type": "stream",
          "text": [
            "/usr/local/lib/python3.6/dist-packages/ipykernel_launcher.py:12: TelegramDeprecationWarning: Old Handler API is deprecated - see https://git.io/fxJuV for details\n",
            "  if sys.path[0] == '':\n"
          ],
          "name": "stderr"
        }
      ]
    }
  ]
}